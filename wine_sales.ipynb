{
 "metadata": {
  "language_info": {
   "codemirror_mode": {
    "name": "ipython",
    "version": 3
   },
   "file_extension": ".py",
   "mimetype": "text/x-python",
   "name": "python",
   "nbconvert_exporter": "python",
   "pygments_lexer": "ipython3",
   "version": "3.8.5-final"
  },
  "orig_nbformat": 2,
  "kernelspec": {
   "name": "python3",
   "display_name": "Python 3",
   "language": "python"
  }
 },
 "nbformat": 4,
 "nbformat_minor": 2,
 "cells": [
  {
   "cell_type": "code",
   "execution_count": 63,
   "metadata": {},
   "outputs": [
    {
     "output_type": "execute_result",
     "data": {
      "text/plain": [
       "        Unnamed: 0   country  \\\n",
       "64              64  Portugal   \n",
       "74              74  Portugal   \n",
       "91              91  Portugal   \n",
       "94              94  Portugal   \n",
       "110            110  Portugal   \n",
       "...            ...       ...   \n",
       "149624      149624  Portugal   \n",
       "149631      149631  Portugal   \n",
       "149636      149636  Portugal   \n",
       "150784      150784  Portugal   \n",
       "150791      150791  Portugal   \n",
       "\n",
       "                                              description  \\\n",
       "64      This is a super-ripe, still very young wine. I...   \n",
       "74      It is the ripe dark Alicante Bouschet that dom...   \n",
       "91      The local Baga grape, better known for produci...   \n",
       "94      This family-owned estate has produced an immed...   \n",
       "110     This state-owned estate of forests and vineyar...   \n",
       "...                                                   ...   \n",
       "149624  An easy, fresh, ripe style, with dried fruits ...   \n",
       "149631  This is a very old 40-year old, with some hars...   \n",
       "149636  Oreo eaters will enjoy the aromas of this wine...   \n",
       "150784  A powerful, solid wine, packed with luscious f...   \n",
       "150791  This wine has the dark fruit typical of this q...   \n",
       "\n",
       "                                              designation  points  price  \\\n",
       "64                                                    NaN      91   23.0   \n",
       "74                                                Premium      91   15.0   \n",
       "91                         Marquês de Marialva Rosé Bruto      86   12.0   \n",
       "94                                         Muros de Vinha      86   10.0   \n",
       "110     Companhia das Lezírias Herdade de Catapereiro ...      86   12.0   \n",
       "...                                                   ...     ...    ...   \n",
       "149624                     Presidential 20-year old tawny      84   50.0   \n",
       "149631                                  40-year old tawny      84  130.0   \n",
       "149636                                  30-year old tawny      84    NaN   \n",
       "150784                                Quinta de Vargellas      90   42.0   \n",
       "150791                                                NaN      90   50.0   \n",
       "\n",
       "               province region_1 region_2         variety  \\\n",
       "64           Alentejano      NaN      NaN  Portuguese Red   \n",
       "74             Alentejo      NaN      NaN  Portuguese Red   \n",
       "91      Beira Atlantico      NaN      NaN            Baga   \n",
       "94                Douro      NaN      NaN  Portuguese Red   \n",
       "110                Tejo      NaN      NaN  Portuguese Red   \n",
       "...                 ...      ...      ...             ...   \n",
       "149624             Port      NaN      NaN            Port   \n",
       "149631             Port      NaN      NaN            Port   \n",
       "149636             Port      NaN      NaN            Port   \n",
       "150784         Portugal      NaN      NaN            Port   \n",
       "150791            Douro      NaN      NaN            Port   \n",
       "\n",
       "                            winery  \n",
       "64                Herdade do Rocim  \n",
       "74      Adega Cooperativa de Borba  \n",
       "91             Adega de Cantanhede  \n",
       "94                Quinta do Portal  \n",
       "110             Wines & Winemakers  \n",
       "...                            ...  \n",
       "149624                 C. da Silva  \n",
       "149631                       Poças  \n",
       "149636          Casa Santa Eufemia  \n",
       "150784             Taylor Fladgate  \n",
       "150791           Quinta do Vesuvio  \n",
       "\n",
       "[5322 rows x 11 columns]"
      ],
      "text/html": "<div>\n<style scoped>\n    .dataframe tbody tr th:only-of-type {\n        vertical-align: middle;\n    }\n\n    .dataframe tbody tr th {\n        vertical-align: top;\n    }\n\n    .dataframe thead th {\n        text-align: right;\n    }\n</style>\n<table border=\"1\" class=\"dataframe\">\n  <thead>\n    <tr style=\"text-align: right;\">\n      <th></th>\n      <th>Unnamed: 0</th>\n      <th>country</th>\n      <th>description</th>\n      <th>designation</th>\n      <th>points</th>\n      <th>price</th>\n      <th>province</th>\n      <th>region_1</th>\n      <th>region_2</th>\n      <th>variety</th>\n      <th>winery</th>\n    </tr>\n  </thead>\n  <tbody>\n    <tr>\n      <th>64</th>\n      <td>64</td>\n      <td>Portugal</td>\n      <td>This is a super-ripe, still very young wine. I...</td>\n      <td>NaN</td>\n      <td>91</td>\n      <td>23.0</td>\n      <td>Alentejano</td>\n      <td>NaN</td>\n      <td>NaN</td>\n      <td>Portuguese Red</td>\n      <td>Herdade do Rocim</td>\n    </tr>\n    <tr>\n      <th>74</th>\n      <td>74</td>\n      <td>Portugal</td>\n      <td>It is the ripe dark Alicante Bouschet that dom...</td>\n      <td>Premium</td>\n      <td>91</td>\n      <td>15.0</td>\n      <td>Alentejo</td>\n      <td>NaN</td>\n      <td>NaN</td>\n      <td>Portuguese Red</td>\n      <td>Adega Cooperativa de Borba</td>\n    </tr>\n    <tr>\n      <th>91</th>\n      <td>91</td>\n      <td>Portugal</td>\n      <td>The local Baga grape, better known for produci...</td>\n      <td>Marquês de Marialva Rosé Bruto</td>\n      <td>86</td>\n      <td>12.0</td>\n      <td>Beira Atlantico</td>\n      <td>NaN</td>\n      <td>NaN</td>\n      <td>Baga</td>\n      <td>Adega de Cantanhede</td>\n    </tr>\n    <tr>\n      <th>94</th>\n      <td>94</td>\n      <td>Portugal</td>\n      <td>This family-owned estate has produced an immed...</td>\n      <td>Muros de Vinha</td>\n      <td>86</td>\n      <td>10.0</td>\n      <td>Douro</td>\n      <td>NaN</td>\n      <td>NaN</td>\n      <td>Portuguese Red</td>\n      <td>Quinta do Portal</td>\n    </tr>\n    <tr>\n      <th>110</th>\n      <td>110</td>\n      <td>Portugal</td>\n      <td>This state-owned estate of forests and vineyar...</td>\n      <td>Companhia das Lezírias Herdade de Catapereiro ...</td>\n      <td>86</td>\n      <td>12.0</td>\n      <td>Tejo</td>\n      <td>NaN</td>\n      <td>NaN</td>\n      <td>Portuguese Red</td>\n      <td>Wines &amp; Winemakers</td>\n    </tr>\n    <tr>\n      <th>...</th>\n      <td>...</td>\n      <td>...</td>\n      <td>...</td>\n      <td>...</td>\n      <td>...</td>\n      <td>...</td>\n      <td>...</td>\n      <td>...</td>\n      <td>...</td>\n      <td>...</td>\n      <td>...</td>\n    </tr>\n    <tr>\n      <th>149624</th>\n      <td>149624</td>\n      <td>Portugal</td>\n      <td>An easy, fresh, ripe style, with dried fruits ...</td>\n      <td>Presidential 20-year old tawny</td>\n      <td>84</td>\n      <td>50.0</td>\n      <td>Port</td>\n      <td>NaN</td>\n      <td>NaN</td>\n      <td>Port</td>\n      <td>C. da Silva</td>\n    </tr>\n    <tr>\n      <th>149631</th>\n      <td>149631</td>\n      <td>Portugal</td>\n      <td>This is a very old 40-year old, with some hars...</td>\n      <td>40-year old tawny</td>\n      <td>84</td>\n      <td>130.0</td>\n      <td>Port</td>\n      <td>NaN</td>\n      <td>NaN</td>\n      <td>Port</td>\n      <td>Poças</td>\n    </tr>\n    <tr>\n      <th>149636</th>\n      <td>149636</td>\n      <td>Portugal</td>\n      <td>Oreo eaters will enjoy the aromas of this wine...</td>\n      <td>30-year old tawny</td>\n      <td>84</td>\n      <td>NaN</td>\n      <td>Port</td>\n      <td>NaN</td>\n      <td>NaN</td>\n      <td>Port</td>\n      <td>Casa Santa Eufemia</td>\n    </tr>\n    <tr>\n      <th>150784</th>\n      <td>150784</td>\n      <td>Portugal</td>\n      <td>A powerful, solid wine, packed with luscious f...</td>\n      <td>Quinta de Vargellas</td>\n      <td>90</td>\n      <td>42.0</td>\n      <td>Portugal</td>\n      <td>NaN</td>\n      <td>NaN</td>\n      <td>Port</td>\n      <td>Taylor Fladgate</td>\n    </tr>\n    <tr>\n      <th>150791</th>\n      <td>150791</td>\n      <td>Portugal</td>\n      <td>This wine has the dark fruit typical of this q...</td>\n      <td>NaN</td>\n      <td>90</td>\n      <td>50.0</td>\n      <td>Douro</td>\n      <td>NaN</td>\n      <td>NaN</td>\n      <td>Port</td>\n      <td>Quinta do Vesuvio</td>\n    </tr>\n  </tbody>\n</table>\n<p>5322 rows × 11 columns</p>\n</div>"
     },
     "metadata": {},
     "execution_count": 63
    }
   ],
   "source": [
    "import pandas as pd\n",
    "import numpy as np\n",
    "\n",
    "df = pd.read_csv('wine_sales_data.csv')\n",
    "\n",
    "\n",
    "\n",
    "#df.isnull().sum()\n",
    "#df.columns\n",
    "#df.country.unique()\n",
    "#pd.Series(df.country.unique()).count()\n",
    "#df[df['country'] == 'Portugal'].count()\n",
    "#df[df['country'] == 'Portugal'].province.unique()\n",
    "portugal = df[df['country'] == 'Portugal']\n",
    "region = df[df['province'] == 'Vinho Verde']\n",
    "#region\n",
    "portugal = pd.DataFrame(portugal)\n",
    "portugal\n",
    "#portugal.describe()\n"
   ]
  },
  {
   "cell_type": "code",
   "execution_count": 64,
   "metadata": {},
   "outputs": [
    {
     "output_type": "execute_result",
     "data": {
      "text/plain": [
       "array([nan, 'Premium', 'Marquês de Marialva Rosé Bruto', ...,\n",
       "       'Presidential 30-year old tawny', 'Plus 20-year old tawny',\n",
       "       'Presidential 20-year old tawny'], dtype=object)"
      ]
     },
     "metadata": {},
     "execution_count": 64
    }
   ],
   "source": [
    "portugal.designation.unique()"
   ]
  },
  {
   "cell_type": "code",
   "execution_count": 65,
   "metadata": {},
   "outputs": [
    {
     "output_type": "execute_result",
     "data": {
      "text/plain": [
       "Unnamed: 0        0\n",
       "country           0\n",
       "description       0\n",
       "designation     553\n",
       "points            0\n",
       "price          1146\n",
       "province          0\n",
       "region_1       5322\n",
       "region_2       5322\n",
       "variety           0\n",
       "winery            0\n",
       "dtype: int64"
      ]
     },
     "metadata": {},
     "execution_count": 65
    }
   ],
   "source": [
    "portugal.isnull().sum()"
   ]
  },
  {
   "cell_type": "code",
   "execution_count": 70,
   "metadata": {},
   "outputs": [
    {
     "output_type": "execute_result",
     "data": {
      "text/plain": [
       "Unnamed: 0       0\n",
       "country          0\n",
       "description      0\n",
       "designation     95\n",
       "points           0\n",
       "price           86\n",
       "province         0\n",
       "region_1       396\n",
       "region_2       396\n",
       "variety          0\n",
       "winery           0\n",
       "dtype: int64"
      ]
     },
     "metadata": {},
     "execution_count": 70
    }
   ],
   "source": [
    "region.isnull().sum()"
   ]
  },
  {
   "cell_type": "code",
   "execution_count": 71,
   "metadata": {},
   "outputs": [
    {
     "output_type": "execute_result",
     "data": {
      "text/plain": [
       "Unnamed: 0     396\n",
       "country        396\n",
       "description    396\n",
       "designation    301\n",
       "points         396\n",
       "price          310\n",
       "province       396\n",
       "region_1         0\n",
       "region_2         0\n",
       "variety        396\n",
       "winery         396\n",
       "dtype: int64"
      ]
     },
     "metadata": {},
     "execution_count": 71
    }
   ],
   "source": [
    "region.count()"
   ]
  },
  {
   "cell_type": "code",
   "execution_count": 69,
   "metadata": {},
   "outputs": [],
   "source": [
    "portugal2 = portugal.copy()"
   ]
  },
  {
   "cell_type": "code",
   "execution_count": null,
   "metadata": {},
   "outputs": [],
   "source": []
  }
 ]
}