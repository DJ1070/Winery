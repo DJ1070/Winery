{
 "metadata": {
  "language_info": {
   "codemirror_mode": {
    "name": "ipython",
    "version": 3
   },
   "file_extension": ".py",
   "mimetype": "text/x-python",
   "name": "python",
   "nbconvert_exporter": "python",
   "pygments_lexer": "ipython3",
   "version": "3.8.5-final"
  },
  "orig_nbformat": 2,
  "kernelspec": {
   "name": "python3",
   "display_name": "Python 3",
   "language": "python"
  }
 },
 "nbformat": 4,
 "nbformat_minor": 2,
 "cells": [
  {
   "cell_type": "code",
   "execution_count": 106,
   "metadata": {},
   "outputs": [],
   "source": [
    "import pandas as pd\n",
    "import numpy as np\n",
    "import matplotlib.pyplot as plt\n",
    "from sklearn.model_selection import train_test_split\n",
    "from collections import Counter\n",
    "from sklearn.preprocessing import StandardScaler\n",
    "from sklearn.metrics import classification_report, accuracy_score, cohen_kappa_score, confusion_matrix\n",
    "from sklearn.linear_model import LogisticRegression\n",
    "from sklearn.neighbors import KNeighborsClassifier\n",
    "from sklearn.svm import SVC\n",
    "from sklearn.ensemble import RandomForestClassifier\n",
    "from sklearn.model_selection import cross_val_score\n",
    "import matplotlib.pyplot as plt\n",
    "\n",
    "wwine = pd.read_csv('winequality-white.csv', delimiter = ';')\n",
    "rwine = pd.read_csv('winequality-red.csv', delimiter = ';')\n",
    "\n",
    "wwine['wine_type'] = 'White Wine'\n",
    "rwine['wine_type'] = 'Red Wine'\n",
    "\n",
    "wines = pd.concat([wwine, rwine])\n",
    "\n",
    "# bucket wine quality scores into qualitative quality labels\n",
    "wines['quality_label'] = wines['quality'].apply(lambda value: 'Low'\n",
    "if value <= 5 else 'Medium'\n",
    "if value <= 7 else 'High')\n",
    "\n",
    "wines['quality_label'] = pd.Categorical(wines['quality_label'], categories=['Low', 'Medium', 'High'])\n",
    "\n",
    "X = wines.iloc[:,:-3]\n",
    "y = np.array(wines['quality_label'])\n",
    "\n",
    "X_scaled = StandardScaler().fit_transform(X)\n",
    "\n",
    "X_train, X_test, y_train, y_test = train_test_split(X, y, test_size=0.2, random_state=9)\n",
    "\n",
    "#print(Counter(wtp_train_y), Counter(wtp_test_y))\n",
    "#print('Features:', list(X.columns))"
   ]
  },
  {
   "cell_type": "code",
   "execution_count": 107,
   "metadata": {},
   "outputs": [
    {
     "output_type": "execute_result",
     "data": {
      "text/plain": [
       "0.7069230769230769"
      ]
     },
     "metadata": {},
     "execution_count": 107
    }
   ],
   "source": [
    "# Logistic Regression\n",
    "model_lr = LogisticRegression().fit(X_train, y_train)\n",
    "model_lr_prediction = model_lr.predict(X_test)\n",
    "lr = accuracy_score(y_test, model_lr_prediction)\n",
    "lr"
   ]
  },
  {
   "cell_type": "code",
   "execution_count": 116,
   "metadata": {},
   "outputs": [
    {
     "output_type": "stream",
     "name": "stdout",
     "text": [
      "Maximum:  0.866\nMean:  0.6720055495606598\n"
     ]
    }
   ],
   "source": [
    "# K-Fold Logistic Regression\n",
    "lr_plot = cross_val_score(LogisticRegression(), X, y, cv=13)\n",
    "print('Maximum: ', lr_plot.max())\n",
    "print('Mean: ', lr_plot.mean())\n",
    "#lr_plot = pd.Series(lr_plot)\n",
    "#lr_plot.plot()"
   ]
  },
  {
   "cell_type": "code",
   "execution_count": 115,
   "metadata": {},
   "outputs": [
    {
     "output_type": "execute_result",
     "data": {
      "text/plain": [
       "0.3687172839931021"
      ]
     },
     "metadata": {},
     "execution_count": 115
    }
   ],
   "source": [
    "kappa_lr = cohen_kappa_score(y_test, model_lr_prediction)\n",
    "kappa_lr"
   ]
  },
  {
   "cell_type": "code",
   "execution_count": 108,
   "metadata": {},
   "outputs": [
    {
     "output_type": "stream",
     "name": "stdout",
     "text": [
      "Accuracy Score:  0.8323076923076923\n"
     ]
    }
   ],
   "source": [
    "# Random Forest Classifier Training\n",
    "model_rf = RandomForestClassifier(n_estimators=800, criterion = 'entropy', random_state = 5).fit(X_train, y_train)\n",
    "model_rf_prediction = model_rf.predict(X_test)\n",
    "rf = accuracy_score(y_test, model_rf_prediction)\n",
    "print('Accuracy Score: ', rf)"
   ]
  },
  {
   "cell_type": "code",
   "execution_count": 109,
   "metadata": {},
   "outputs": [
    {
     "output_type": "stream",
     "name": "stdout",
     "text": [
      "              precision    recall  f1-score   support\n\n        High       1.00      0.32      0.49        34\n         Low       0.83      0.74      0.78       471\n      Medium       0.83      0.91      0.87       795\n\n    accuracy                           0.83      1300\n   macro avg       0.89      0.66      0.71      1300\nweighted avg       0.84      0.83      0.83      1300\n\n"
     ]
    }
   ],
   "source": [
    "print(classification_report(y_test, model_rf_prediction))"
   ]
  },
  {
   "cell_type": "code",
   "execution_count": 110,
   "metadata": {},
   "outputs": [
    {
     "output_type": "stream",
     "name": "stdout",
     "text": [
      "             Predicted high  Predicted low  Predicted medium\nTrue high                11              0                23\nTrue low,                 0            348               123\nTrue medium               0             72               723\n"
     ]
    }
   ],
   "source": [
    "confus_matrix = pd.DataFrame(\n",
    "    confusion_matrix(y_test, model_rf_prediction),\n",
    "    columns=['Predicted high', 'Predicted low', 'Predicted medium'],\n",
    "    index=['True high', 'True low,', 'True medium']\n",
    "    )\n",
    "print(confus_matrix)"
   ]
  },
  {
   "cell_type": "code",
   "execution_count": 111,
   "metadata": {},
   "outputs": [
    {
     "output_type": "stream",
     "name": "stdout",
     "text": [
      "Kappa:  0.646170614681797\n"
     ]
    }
   ],
   "source": [
    "kappa_rf = cohen_kappa_score(y_test, model_rf_prediction)\n",
    "print('Kappa: ', kappa_rf)"
   ]
  },
  {
   "cell_type": "code",
   "execution_count": null,
   "metadata": {},
   "outputs": [],
   "source": []
  }
 ]
}