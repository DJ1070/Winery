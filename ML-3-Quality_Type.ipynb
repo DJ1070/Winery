{
 "metadata": {
  "language_info": {
   "codemirror_mode": {
    "name": "ipython",
    "version": 3
   },
   "file_extension": ".py",
   "mimetype": "text/x-python",
   "name": "python",
   "nbconvert_exporter": "python",
   "pygments_lexer": "ipython3",
   "version": "3.8.5-final"
  },
  "orig_nbformat": 2,
  "kernelspec": {
   "name": "python3",
   "display_name": "Python 3",
   "language": "python"
  }
 },
 "nbformat": 4,
 "nbformat_minor": 2,
 "cells": [
  {
   "cell_type": "code",
   "execution_count": 3,
   "metadata": {},
   "outputs": [
    {
     "output_type": "stream",
     "name": "stdout",
     "text": [
      "Features: ['fixed acidity', 'volatile acidity', 'citric acid', 'residual sugar', 'chlorides', 'free sulfur dioxide', 'total sulfur dioxide', 'density', 'pH', 'sulphates', 'alcohol']\n"
     ]
    }
   ],
   "source": [
    "import pandas as pd\n",
    "import numpy as np\n",
    "import matplotlib.pyplot as plt\n",
    "from sklearn.model_selection import train_test_split\n",
    "from collections import Counter\n",
    "from sklearn.preprocessing import StandardScaler\n",
    "from sklearn.metrics import classification_report, cohen_kappa_score, confusion_matrix\n",
    "from sklearn.ensemble import RandomForestClassifier\n",
    "from sklearn.metrics import accuracy_score\n",
    "\n",
    "wwine = pd.read_csv('winequality-white.csv', delimiter = ';')\n",
    "rwine = pd.read_csv('winequality-red.csv', delimiter = ';')\n",
    "\n",
    "wwine['wine_type'] = 'White Wine'\n",
    "rwine['wine_type'] = 'Red Wine'\n",
    "\n",
    "wines = pd.concat([wwine, rwine])\n",
    "\n",
    "# bucket wine quality scores into qualitative quality labels\n",
    "wines['quality_label'] = wines['quality'].apply(lambda value: 'Low'\n",
    "if value <= 5 else 'Medium'\n",
    "if value <= 7 else 'High')\n",
    "\n",
    "wines['quality_label'] = pd.Categorical(wines['quality_label'],\n",
    "categories=['Low', 'Medium', 'High'])\n",
    "\n",
    "wtp_features = wines.iloc[:,:-3]\n",
    "wtp_feature_names = wtp_features.columns\n",
    "wtp_class_labels = np.array(wines['quality_label'])\n",
    "#wtp_class_labels = np.array(wines['wine_type'])\n",
    "\n",
    "# Best results with test_size = 3 !!!\n",
    "wtp_train_X, wtp_test_X, wtp_train_y, wtp_test_y = train_test_split(wtp_features, wtp_class_labels, test_size=0.2, random_state=16)\n",
    "\n",
    "#print(Counter(wtp_train_y), Counter(wtp_test_y))\n",
    "#print('Features:', list(wtp_feature_names))"
   ]
  }
 ]
}